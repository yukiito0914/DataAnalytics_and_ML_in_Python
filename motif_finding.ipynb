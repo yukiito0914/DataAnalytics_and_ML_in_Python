{
 "cells": [
  {
   "cell_type": "code",
   "execution_count": 6,
   "id": "51d27690",
   "metadata": {
    "id": "51d27690"
   },
   "outputs": [],
   "source": [
    "from typing import List"
   ]
  },
  {
   "cell_type": "markdown",
   "id": "d5fd0736",
   "metadata": {
    "id": "d5fd0736"
   },
   "source": [
    "## 1: Evolution as a Sequence of Mistakes\n",
    "\n",
    "A mutation is simply an error that occurs during the creation or replication of nucleic acids, particularly DNA. Since nucleic acids are crucial for cellular functions, mutations often have a ripple effect throughout the cell. Although mutations are errors, a rare mutation can provide a beneficial trait to the cell. In fact, the long-term effects of evolution are the cumulative result of advantageous microscopic mutations over generations.\n",
    "\n",
    "The most basic and common type of nucleic acid mutation is a point mutation, which involves the replacement of one base with another at a single nucleotide. In DNA, this also requires a change in the complementary base.\n",
    "\n",
    "DNA strands from different organisms or species are considered homologous if they share a common ancestor, and counting the base differences in homologous strands gives the minimum number of point mutations that could have occurred over their evolutionary history.\n",
    "\n",
    "We aim to minimize the number of point mutations separating two species because, based on the principle of parsimony, evolutionary histories should be explained as simply as possible."
   ]
  },
  {
   "cell_type": "markdown",
   "id": "a28fb90e",
   "metadata": {
    "id": "a28fb90e"
   },
   "source": [
    "### Problem:\n",
    "Given two strings $s$ and $t$ of equal length, the Hamming distance between $s$ and $t$, denoted $d_{\\mathrm{H}}(s, t)$, is the number of corresponding symbols that differ in $s$ and $t$\n",
    "\n",
    "<span style=\"color: green;\">Given</span>: Two DNA strings $s$ and $t$ of equal length (not exceeding 1 kbp).\n",
    "\n",
    "<span style=\"color: green;\">Return</span>: The Hamming distance $d_{\\mathrm{H}}(s, t)$."
   ]
  },
  {
   "cell_type": "markdown",
   "id": "febe8776",
   "metadata": {
    "id": "febe8776"
   },
   "source": [
    "<span style=\"color: blue;\">Sample dataset</span>:\n",
    "\n",
    "GAGCCTACTAACGGGAT \\\n",
    "CATCGTAATGACGGCCT\n",
    "\n",
    "<span style=\"color: blue;\">Sample output</span>: \\\n",
    "7"
   ]
  },
  {
   "cell_type": "code",
   "execution_count": 8,
   "id": "addf4737",
   "metadata": {
    "id": "addf4737"
   },
   "outputs": [],
   "source": [
    "def HammingDistance(s, t):\n",
    "    # Edge case\n",
    "    if not isinstance(s, str) or not isinstance(t, str): # When inputs are not string\n",
    "        raise ValueError(\"Both inputs must be strings.\")\n",
    "    if len(s) != len(t): # When inputs are not the same length\n",
    "        raise ValueError(\"Strings must be of the same length.\")\n",
    "\n",
    "    count = 0\n",
    "    for i in range(len(s)):\n",
    "        if s[i] != t[i]:\n",
    "            count += 1 # When ith nucleotide is different between two sequences, increase the count\n",
    "    return count"
   ]
  },
  {
   "cell_type": "code",
   "execution_count": 10,
   "id": "9d25ca5c-1991-4dbd-b325-6bbdd094226b",
   "metadata": {},
   "outputs": [
    {
     "name": "stdout",
     "output_type": "stream",
     "text": [
      "7\n"
     ]
    }
   ],
   "source": [
    "s = \"GAGCCTACTAACGGGAT\"\n",
    "t = \"CATCGTAATGACGGCCT\"\n",
    "print(HammingDistance(s, t))"
   ]
  },
  {
   "cell_type": "markdown",
   "id": "bdb1fba9",
   "metadata": {
    "id": "bdb1fba9"
   },
   "source": [
    "## 2: Translating RNA into Protein\n",
    "\n",
    "Just as nucleic acids are polymers of nucleotides, proteins are chains of smaller molecules called amino acids; 20 amino acids commonly appear in every species. How are proteins created? The genetic code, discovered throughout the course of a number of ingenious experiments in the late 1950s, details the translation of an RNA molecule called messenger RNA (mRNA) into amino acids for protein creation. The apparent difficulty in translation is that somehow 4 RNA bases must be translated into a language of 20 amino acids; in order for every possible amino acid to be created, we must translate 3-nucleobase strings (called codons) into amino acids. Note that there are 4<sup>3</sup>=64\n",
    " possible codons, so that multiple codons may encode the same amino acid. Two special types of codons are the start codon (AUG), which codes for the amino acid methionine always indicates the start of translation, and the three stop codons (UAA, UAG, UGA), which do not code for an amino acid and cause translation to end."
   ]
  },
  {
   "cell_type": "markdown",
   "id": "587c7499",
   "metadata": {
    "id": "587c7499"
   },
   "source": [
    "### Problem:\n",
    "The 20 commonly occurring amino acids are abbreviated by using 20 letters from the English alphabet (all letters except for B, J, O, U, X, and Z). Protein strings are constructed from these 20 symbols. Henceforth, the term genetic string will incorporate protein strings along with DNA strings and RNA strings.\n",
    "\n",
    "The RNA codon table dictates the details regarding the encoding of specific codons into the amino acid alphabet.\n",
    "\n",
    "<span style=\"color: green;\">Given</span>:  An RNA string $s$ corresponding to a strand of mRNA (of length at most 10 kbp).\n",
    "\n",
    "<span style=\"color: green;\">Return</span>: The protein string encoded by $s$."
   ]
  },
  {
   "cell_type": "markdown",
   "id": "53eed862",
   "metadata": {
    "id": "53eed862"
   },
   "source": [
    "<span style=\"color: blue;\">Sample dataset</span>:\n",
    "\n",
    "AUGGCCAUGGCGCCCAGAACUGAGAUCAAUAGUACCCGUAUUAACGGGUGA\n",
    "\n",
    "<span style=\"color: blue;\">Sample output</span>: \\\n",
    "MAMAPRTEINSTRING"
   ]
  },
  {
   "cell_type": "code",
   "execution_count": 12,
   "id": "7c8e601d",
   "metadata": {
    "id": "7c8e601d"
   },
   "outputs": [],
   "source": [
    "CODON_TABLE = {\n",
    "    'AUG': 'M', 'UUU': 'F', 'UUC': 'F', 'UUA': 'L', 'UUG': 'L', 'UCU': 'S',\n",
    "    'UCC': 'S', 'UCA': 'S', 'UCG': 'S', 'UAU': 'Y', 'UAC': 'Y', 'UGU': 'C',\n",
    "    'UGC': 'C', 'UGG': 'W', 'CUU': 'L', 'CUC': 'L', 'CUA': 'L', 'CUG': 'L',\n",
    "    'CCU': 'P', 'CCC': 'P', 'CCA': 'P', 'CCG': 'P', 'CAU': 'H', 'CAC': 'H',\n",
    "    'CAA': 'Q', 'CAG': 'Q', 'CGU': 'R', 'CGC': 'R', 'CGA': 'R', 'CGG': 'R',\n",
    "    'AUU': 'I', 'AUC': 'I', 'AUA': 'I', 'ACU': 'T', 'ACC': 'T', 'ACA': 'T',\n",
    "    'ACG': 'T', 'AAU': 'N', 'AAC': 'N', 'AAA': 'K', 'AAG': 'K', 'AGU': 'S',\n",
    "    'AGC': 'S', 'AGA': 'R', 'AGG': 'R', 'GUU': 'V', 'GUC': 'V', 'GUA': 'V',\n",
    "    'GUG': 'V', 'GCU': 'A', 'GCC': 'A', 'GCA': 'A', 'GCG': 'A', 'GAU': 'D',\n",
    "    'GAC': 'D', 'GAA': 'E', 'GAG': 'E', 'GGU': 'G', 'GGC': 'G', 'GGA': 'G',\n",
    "    'GGG': 'G', 'UAA': 'Stop', 'UAG': 'Stop', 'UGA': 'Stop'\n",
    "}\n",
    "\n",
    "def Translation(s):\n",
    "    # Edge case: input must be a string\n",
    "    if not isinstance(s, str):\n",
    "        raise ValueError(\"Inputs must be strings.\")\n",
    "    # Find the start codon\n",
    "    for i in range(len(s)):\n",
    "        if s[i:i+3] == 'AUG':\n",
    "            start = i\n",
    "            break\n",
    "    # else:\n",
    "    #     raise ValueError(\"There is no start codon.\")\n",
    "    # Translate the protein\n",
    "    prot = \"\"\n",
    "    for j in range(start, len(s) - len(s) % 3, 3):  # Exclude leftover bases\n",
    "        codon = s[j:j+3]\n",
    "        amino_acid = CODON_TABLE.get(codon)\n",
    "        if amino_acid == 'Stop':\n",
    "            break\n",
    "        elif amino_acid:\n",
    "            prot += amino_acid\n",
    "        else:\n",
    "            # Ignore invalid codons (optional: raise an error here if needed)\n",
    "            raise ValueError(\"Invalid codon found in the sequence.\")\n",
    "    return prot"
   ]
  },
  {
   "cell_type": "code",
   "execution_count": 14,
   "id": "a0f46edb-c17c-4460-91d2-864c09b45608",
   "metadata": {},
   "outputs": [
    {
     "name": "stdout",
     "output_type": "stream",
     "text": [
      "MAMAPRTEINSTRING\n"
     ]
    }
   ],
   "source": [
    "s = \"AUGGCCAUGGCGCCCAGAACUGAGAUCAAUAGUACCCGUAUUAACGGGUGA\"\n",
    "print(Translation(s))"
   ]
  },
  {
   "cell_type": "markdown",
   "id": "76739342",
   "metadata": {
    "id": "76739342"
   },
   "source": [
    "## 3: Finding a Motif in DNA\n",
    "\n",
    "Discovering the same DNA segment in the genomes of two different organisms strongly suggests that it serves a similar function in both. Such shared DNA segments are referred to as motifs. However, the presence of multiple repeated DNA sequences, known as repeats, complicates the situation. These repeats occur far more frequently than random chance would predict, highlighting the structured nature of genomes"
   ]
  },
  {
   "cell_type": "markdown",
   "id": "17d01f3b",
   "metadata": {
    "id": "17d01f3b"
   },
   "source": [
    "### Problem:\n",
    "Given two strings $s$ and $t$, $t$ is a substring of $s$. If $t$ is contained as a contiguous collection of symbols in $s$ (as a result, $t$ must be no longer than $s$).\n",
    "\n",
    "The position of a symbol in a string is the total number of symbols found to its left, including itself (e.g., the positions of all occurrences of 'U' in \"AUGCUUCAGAAAGGUCUUACG\" are 2, 5, 6, 15, 17, and 18). The symbol at position $i$ of $s$ is denoted by $s[i]$.\n",
    "\n",
    "A substring of $s$ can be represented as $s[j:k]$, where $j$ and $k$ represent the starting and ending positions of the substring in $s$; for example, if $s$ = \"AUGCUUCAGAAAGGUCUUACG\", then $s[2:5]$ = \"UGCU\".\n",
    "\n",
    "The location of a substring $s[j:k]$ is its beginning position $j$; note that $t$ will have multiple locations in $s$ if it occurs more than once as a substring of $s$.\n",
    "\n",
    "<span style=\"color: green;\">Given</span>: Two DNA strings $s$ and $t$ (each of length at most 1 kbp).\n",
    "\n",
    "<span style=\"color: green;\">Return</span>: All locations of $t$ as a substring of $s$.\n"
   ]
  },
  {
   "cell_type": "markdown",
   "id": "6de8a670",
   "metadata": {
    "id": "6de8a670"
   },
   "source": [
    "<span style=\"color: blue;\">Sample dataset</span>:\n",
    "\n",
    "GATATATGCATATACTT \\\n",
    "ATAT\n",
    "\n",
    "<span style=\"color: blue;\">Sample output</span>: \\\n",
    "2 4 10"
   ]
  },
  {
   "cell_type": "code",
   "execution_count": 16,
   "id": "340747d9",
   "metadata": {
    "id": "340747d9"
   },
   "outputs": [],
   "source": [
    "def FindingMotif(s, t):\n",
    "    # Edge case\n",
    "    if not isinstance(s, str): # When inputs are not string\n",
    "        raise ValueError(\"Inputs must be strings.\")\n",
    "    if len(s) < len(t):\n",
    "        raise ValueError(\"t must be no longer than s\")\n",
    "\n",
    "    out = []\n",
    "    for i in range(len(s)-len(t)+1): # Limit range to avoid index out of range\n",
    "        for j in range(len(t)):\n",
    "            if s[i+j] != t[j]: \n",
    "                break\n",
    "            elif j+1 == len(t): # When t is a substring of s\n",
    "                out.append(i+1)\n",
    "    return out"
   ]
  },
  {
   "cell_type": "code",
   "execution_count": 18,
   "id": "6a2e8d23-6bde-458c-bb12-a24497a2e0e3",
   "metadata": {},
   "outputs": [
    {
     "name": "stdout",
     "output_type": "stream",
     "text": [
      "2 4 10\n"
     ]
    }
   ],
   "source": [
    "s = 'GATATATGCATATACTT'\n",
    "t = 'ATAT'\n",
    "print(*FindingMotif(s, t))"
   ]
  },
  {
   "cell_type": "markdown",
   "id": "a7ac512c",
   "metadata": {
    "id": "a7ac512c"
   },
   "source": [
    "## 4: RNA Splicing\n",
    "\n",
    "In the nucleus, an enzyme called RNA polymerase (RNAP) starts transcription by breaking the bonds between DNA's complementary bases. It then creates pre-mRNA using one DNA strand as a template, adding complementary RNA bases, with uracil replacing thymine. The other DNA strand, known as the coding strand, is nearly identical to the RNA strand, except for thymine being replaced by uracil. As RNAP progresses, the separated DNA strands quickly rejoin. Pre-mRNA is then processed by removing non-coding segments (introns) and joining coding segments (exons) through a process called splicing, carried out by the spliceosome. Exons together form the gene's coding region, responsible for protein production."
   ]
  },
  {
   "cell_type": "markdown",
   "id": "c9490de3",
   "metadata": {
    "id": "c9490de3"
   },
   "source": [
    "### Problem:\n",
    "After identifying the exons and introns of an RNA string, we only need to delete the introns and concatenate the exons to form a new string ready for translation.\n",
    "\n",
    "The RNA codon table dictates the details regarding the encoding of specific codons into the amino acid alphabet.\n",
    "\n",
    "<span style=\"color: green;\">Given</span>:  A DNA string $s$ (of length at most 1 kbp) and a collection of substrings of $s$\n",
    " acting as introns. All strings are given in FASTA format.\n",
    "\n",
    "<span style=\"color: green;\">Return</span>: A protein string resulting from transcribing and translating the exons of $s$\n",
    ". (Note: Only one solution will exist for the dataset provided)"
   ]
  },
  {
   "cell_type": "markdown",
   "id": "e1217900-7231-42b2-9648-5e65faf16652",
   "metadata": {
    "id": "7835bdfe"
   },
   "source": [
    "<span style=\"color: blue;\">Sample dataset</span>:\n",
    "\n",
    "&gt;Pseudo_DNA \\\n",
    "ATGGTCTACATAGCTGACAAACAGCACGTAGCAATCGGTCGAATCTCGAGAGGCATATGGTCACATGATCGGTCGAGCGTGTTTCAAAGTTTGCGCCTAG \\\n",
    "&gt;Pseudo_intron1 \\\n",
    "ATCGGTCGAA \\\n",
    "&gt;Pseudo_intron2\\\n",
    "ATCGGTCGAGCGTGT\n",
    "\n",
    "<span style=\"color: blue;\">Sample output</span>: \\\n",
    "MVYIADKQHVASREAYGHMFKVCA"
   ]
  },
  {
   "cell_type": "code",
   "execution_count": 20,
   "id": "e94e9035",
   "metadata": {
    "id": "e94e9035"
   },
   "outputs": [],
   "source": [
    "def parse_fasta(fasta_str):\n",
    "    sequences = []\n",
    "    current_seq = []\n",
    "    for line in fasta_str.strip().splitlines():\n",
    "        if line.startswith(\">\"):\n",
    "            # Save the current sequence and reset\n",
    "            if current_seq:\n",
    "                sequences.append(\"\".join(current_seq))\n",
    "                current_seq = []\n",
    "        else:\n",
    "            current_seq.append(line.strip())\n",
    "    if current_seq:\n",
    "        sequences.append(\"\".join(current_seq))  # Add the last sequence\n",
    "    return sequences\n",
    "\n",
    "# def RNASplicing(s: str, introns: List[str]) -> str:\n",
    "def RNASplicing(s, introns):\n",
    "    # Edge case\n",
    "    if not isinstance(s, str): # When inputs are not string\n",
    "        raise ValueError(\"Inputs must be strings.\")\n",
    "    if not all(isinstance(intr, str) for intr in introns):\n",
    "        raise ValueError(\"Introns must be provided as a list of strings.\")\n",
    "        \n",
    "    # Delete introns from rna\n",
    "    for intr in introns:\n",
    "        s = s.replace(intr, \"_\")\n",
    "    s = s.replace(\"_\", \"\")\n",
    "    # T is replaced by U\n",
    "    mrna = s.replace(\"T\", \"U\")\n",
    "    # Translation\n",
    "    prot = Translation(mrna)\n",
    "    return prot"
   ]
  },
  {
   "cell_type": "code",
   "execution_count": 22,
   "id": "51c0be3f-a250-40e9-83ce-2bd78532f62e",
   "metadata": {},
   "outputs": [
    {
     "data": {
      "text/plain": [
       "'MVYIADKQHVASREAYGHMFKVCA'"
      ]
     },
     "execution_count": 22,
     "metadata": {},
     "output_type": "execute_result"
    }
   ],
   "source": [
    "s = \"ATGGTCTACATAGCTGACAAACAGCACGTAGCAATCGGTCGAATCTCGAGAGGCATATGGTCACATGATCGGTCGAGCGTGTTTCAAAGTTTGCGCCTAG\"\n",
    "introns = [\"ATCGGTCGAA\", \"ATCGGTCGAGCGTGT\"]\n",
    "RNASplicing(s, introns)"
   ]
  },
  {
   "cell_type": "markdown",
   "id": "4eb88de5",
   "metadata": {
    "id": "4eb88de5"
   },
   "source": [
    "## 5: Finding a Shared Motif"
   ]
  },
  {
   "cell_type": "markdown",
   "id": "cf93078c",
   "metadata": {
    "id": "cf93078c"
   },
   "source": [
    "### Problem:\n",
    "A common substring of a collection of strings is a substring of every member of the collection. We say that a common substring is a longest common substring if there does not exist a longer common substring. For example, \"CG\" is a common substring of \"ACGTACGT\" and \"AACCGTATA\", but it is not as long as possible; in this case, \"CGTA\" is a longest common substring of \"ACGTACGT\" and \"AACCGTATA\".\n",
    "\n",
    "Note that the longest common substring is not necessarily unique; for a simple example, \"AA\" and \"CC\" are both longest common substrings of \"AACC\" and \"CCAA\".\n",
    "\n",
    "<span style=\"color: green;\">Given</span>: A collection of $k$ (k≤100) DNA strings of length at most 1 kbp each in FASTA format.\n",
    "\n",
    "<span style=\"color: green;\">Return</span>: A longest common substring of the collection. (If multiple solutions exist, you may return any single solution)"
   ]
  },
  {
   "cell_type": "markdown",
   "id": "20ab7295",
   "metadata": {
    "id": "20ab7295"
   },
   "source": [
    "<span style=\"color: blue;\">Sample dataset</span>:\n",
    "\n",
    "&gt;seq_1 \\\n",
    "GATTACA \\\n",
    "&gt;seq_2 \\\n",
    "TAGACCA \\\n",
    "&gt;seq_3 \\\n",
    "ATACA\n",
    "\n",
    "<span style=\"color: blue;\">Sample output</span>: \\\n",
    "AC"
   ]
  },
  {
   "cell_type": "code",
   "execution_count": 24,
   "id": "7a4aa35f",
   "metadata": {
    "id": "7a4aa35f"
   },
   "outputs": [],
   "source": [
    "def LongestCommonSubstring(k):\n",
    "    # Edge case\n",
    "    if not all(isinstance(seq, str) for seq in k):\n",
    "        raise ValueError(\"Input must be provided as a list of strings.\")    \n",
    "    k.sort(key=len)\n",
    "    ref = k[0] # Shortest string as the reference\n",
    "    out = \"\" # initiate the lengest common string\n",
    "    # Loop over all substring of the reference string\n",
    "    for start in range(len(ref)): \n",
    "       for end in range(len(ref), start, -1): # Loop from end to start+1\n",
    "           substring = ref[start:end]\n",
    "           if all(substring in seq for seq in k[1:]): # Check if the substring is in all other strings\n",
    "               if len(substring) > len(out): # Update the lengest common string if substring is longer\n",
    "                   out = substring                     \n",
    "    return out"
   ]
  },
  {
   "cell_type": "code",
   "execution_count": 26,
   "id": "d62461fe-090c-425e-b21f-cd7548b27fe3",
   "metadata": {},
   "outputs": [
    {
     "data": {
      "text/plain": [
       "'TA'"
      ]
     },
     "execution_count": 26,
     "metadata": {},
     "output_type": "execute_result"
    }
   ],
   "source": [
    "k = [\"GATTACA\", \"TAGACCA\", \"ATACA\"]\n",
    "LongestCommonSubstring(k)"
   ]
  },
  {
   "cell_type": "markdown",
   "id": "4f12540e",
   "metadata": {
    "id": "4f12540e"
   },
   "source": [
    "## 6: Finding a Spliced Motif\n",
    "\n",
    "In “Finding a Motif in DNA”, we searched for occurrences of a motif as a substring of a larger database genetic string. However, a DNA strand coding for a protein is often interspersed with introns (see “RNA Splicing”), thus we need a way to recognize a motif that has been chopped up into pieces along a chromosome."
   ]
  },
  {
   "cell_type": "markdown",
   "id": "0d2822cd",
   "metadata": {
    "id": "0d2822cd"
   },
   "source": [
    "### Problem:\n",
    "A subsequence of a string is a collection of symbols contained in order (though not necessarily contiguously) in the string (e.g., ACG is a subsequence of TATGCTAAGATC). The indices of a subsequence are the positions in the string at which the symbols of the subsequence appear; thus, the indices of ACG in TATGCTAAGATC can be represented by (2, 5, 9).\n",
    "\n",
    "As a substring can have multiple locations, a subsequence can have multiple collections of indices, and the same index can be reused in more than one appearance of the subsequence; for example, ACG is a subsequence of AACCGGTT in 8 different ways.\n",
    "\n",
    "<span style=\"color: green;\">Given</span>: Two DNA strings $s$ and $t$ (each of length at most 1 kbp) in FASTA format.\n",
    "\n",
    "<span style=\"color: green;\">Return</span>: One collection of indices of $s$ in which the symbols of $t$ appear as a subsequence of $s$. If multiple solutions exist, you may return any one."
   ]
  },
  {
   "cell_type": "markdown",
   "id": "bce9b878",
   "metadata": {
    "id": "bce9b878"
   },
   "source": [
    "<span style=\"color: blue;\">Sample dataset</span>:\n",
    "\n",
    "&gt;seq_1 \\\n",
    "ACGTACGTGACG \\\n",
    "&gt;seq_2 \\\n",
    "GTA\n",
    "\n",
    "<span style=\"color: blue;\">Sample output</span>: \\\n",
    "3 8 10"
   ]
  },
  {
   "cell_type": "code",
   "execution_count": 28,
   "id": "749fb012",
   "metadata": {
    "id": "749fb012"
   },
   "outputs": [],
   "source": [
    "def FindingSubsequence(s, t):\n",
    "    # Edge case\n",
    "    if not isinstance(s, str) or not isinstance(t, str):\n",
    "        raise ValueError(\"Input must be provided as a list of strings.\")    \n",
    "\n",
    "    out = []\n",
    "    start = 0\n",
    "    for nuc in t:\n",
    "        for i in range(start, len(s)): # Loop from the last index to the end\n",
    "            if nuc == s[i]:\n",
    "                out.append(i+1) # Use 1-indexed positions\n",
    "                start = i+1 # Update the start of the next search\n",
    "                break\n",
    "    return out"
   ]
  },
  {
   "cell_type": "code",
   "execution_count": 30,
   "id": "af7e50ab-71e2-4a9a-9025-6d03be6c6d5c",
   "metadata": {},
   "outputs": [
    {
     "data": {
      "text/plain": [
       "[3, 4, 5]"
      ]
     },
     "execution_count": 30,
     "metadata": {},
     "output_type": "execute_result"
    }
   ],
   "source": [
    "s = \"ACGTACGTGACG\"\n",
    "t = \"GTA\"\n",
    "FindingSubsequence(s, t)"
   ]
  },
  {
   "cell_type": "markdown",
   "id": "bb9cb9e4",
   "metadata": {
    "id": "bb9cb9e4"
   },
   "source": [
    "## 7: Finding a Shared Spliced Motif\n",
    "\n",
    "In \"Finding a Shared Motif,\" we explored how to search a database of genetic strings to find the longest common substring, which represented a motif shared by both strings. However, as discussed in \"RNA Splicing,\" coding regions in DNA are interrupted by introns that don't code for proteins.\n",
    "\n",
    "Thus, we need to identify shared motifs that are spread across exons, meaning the motifs don't have to be continuous. To represent this, we must use subsequences."
   ]
  },
  {
   "cell_type": "markdown",
   "id": "a0832338",
   "metadata": {
    "id": "a0832338"
   },
   "source": [
    "### Problem:\n",
    "A string $u$ is a common subsequence of strings $s$ and $t$. If the symbols of $u$ appear in order as a subsequence of both $s$ and $t$. For example, \"ACTG\" is a common subsequence of \"AACCTTGG\" and \"ACACTGTGA\".\n",
    "\n",
    "Analogously to the definition of longest common substring, $u$ is a longest common subsequence of $s$ and $t$ if there does not exist a longer common subsequence of the two strings. Continuing our above example, \"ACCTTG\" is a longest common subsequence of \"AACCTTGG\" and \"ACACTGTGA\", as is \"AACTGG\".\n",
    "\n",
    "<span style=\"color: green;\">Given</span>: Two DNA strings $s$ and $t$ (each of length at most 1 kbp) in FASTA format.\n",
    "\n",
    "<span style=\"color: green;\">Return</span>:  A longest common subsequence of $s$ and $t$. If multiple solutions exist, you may return any one."
   ]
  },
  {
   "cell_type": "markdown",
   "id": "895151ac",
   "metadata": {
    "id": "895151ac"
   },
   "source": [
    "<span style=\"color: blue;\">Sample dataset</span>:\n",
    "\n",
    "&gt;seq_1 \\\n",
    "AACCTTGG \\\n",
    "&gt;seq_2 \\\n",
    "ACACTGTGA\n",
    "\n",
    "<span style=\"color: blue;\">Sample output</span>: \\\n",
    "AACTGG"
   ]
  },
  {
   "cell_type": "code",
   "execution_count": 32,
   "id": "a21386a4",
   "metadata": {
    "id": "a21386a4"
   },
   "outputs": [],
   "source": [
    "def LongestCommonSubsequence(s, t):\n",
    "    # Edge case\n",
    "    if not isinstance(s, str) or not isinstance(t, str):\n",
    "        raise ValueError(\"Input must be provided as a list of strings.\")    \n",
    "\n",
    "    # Initialize DP table\n",
    "    dp = [[0] * (len(t) + 1) for _ in range(len(s) + 1)]\n",
    "    # Update DP table\n",
    "    # Calculate LCS length for every substring pairs\n",
    "    for i in range(1, len(s) + 1):\n",
    "        for j in range(1, len(t) + 1):\n",
    "            if s[i - 1] == t[j - 1]: \n",
    "                dp[i][j] = dp[i - 1][j - 1] + 1\n",
    "            else:\n",
    "                dp[i][j] = max(dp[i - 1][j], dp[i][j - 1])\n",
    "        # Restore LCS\n",
    "    lcs = []\n",
    "    i, j = len(s), len(t)\n",
    "    while i > 0 and j > 0:\n",
    "        if s[i - 1] == t[j - 1]:\n",
    "            lcs.append(s[i - 1]) # Append the string as a LCS component\n",
    "            i -= 1\n",
    "            j -= 1\n",
    "        elif dp[i - 1][j] >= dp[i][j - 1]:\n",
    "            i -= 1  # skip s to maintain LCS length\n",
    "        else:\n",
    "            j -= 1  # skip t to maintain LCS length\n",
    "    \n",
    "    # Reverse LCS list to the original order\n",
    "    return ''.join(reversed(lcs))"
   ]
  },
  {
   "cell_type": "code",
   "execution_count": 34,
   "id": "2d834728-2ded-45e0-a752-9e0bf86f764b",
   "metadata": {},
   "outputs": [
    {
     "data": {
      "text/plain": [
       "'AACTTG'"
      ]
     },
     "execution_count": 34,
     "metadata": {},
     "output_type": "execute_result"
    }
   ],
   "source": [
    "s = \"AACCTTGG\"\n",
    "t = \"ACACTGTGA\"\n",
    "LongestCommonSubsequence(s, t)"
   ]
  },
  {
   "cell_type": "markdown",
   "id": "7ed9bb60",
   "metadata": {
    "id": "7ed9bb60"
   },
   "source": [
    "## 8: Two Motifs, One Gene\n",
    "\n",
    "In the previous task, we found the longest motif that could have been shared by two genetic strings, allowing for the motif to be split onto multiple exons in the process. As a result, we needed to find a longest common subsequence of the two strings (which extended the problem of finding a longest common substring from “Finding a Shared Motif”).\n",
    "\n",
    "In this problem, we consider an inverse problem of sorts in which we are given two different motifs and we wish to interleave them together in such a way as to produce a shortest possible genetic string in which both motifs occur as subsequences.\n",
    "\n",
    "Thus, we need to identify shared motifs that are spread across exons, meaning the motifs don't have to be continuous."
   ]
  },
  {
   "cell_type": "markdown",
   "id": "b82b8bbd",
   "metadata": {
    "id": "b82b8bbd"
   },
   "source": [
    "### Problem:\n",
    "A string $s$ is a supersequence of another string $t$ if $s$ contains $t$ as a subsequence. A common supersequence of strings $s$ and $t$ is a string that serves as a supersequence of both $s$ and $t$. For example, \"GACCTAGGAACTC\" serves as a common supersequence of \"ACGTC\" and \"ATAT\". A shortest common supersequence of $s$ and $t$ is a supersequence for which there does not exist a shorter common supersequence. Continuing our example, \"ACGTACT\" is a shortest common supersequence of \"ACGTC\" and \"ATAT\".\n",
    "\n",
    "<span style=\"color: green;\">Given</span>: Two DNA strings $s$ and $t$.\n",
    "\n",
    "<span style=\"color: green;\">Return</span>: A shortest common supersequence of $s$ and $t$. If multiple solutions exist, you may return any one."
   ]
  },
  {
   "cell_type": "markdown",
   "id": "2df6249d",
   "metadata": {
    "id": "2df6249d"
   },
   "source": [
    "<span style=\"color: blue;\">Sample dataset</span>:\n",
    "\n",
    "ATCTGAT \\\n",
    "TGCATA\n",
    "\n",
    "<span style=\"color: blue;\">Sample output</span>: \\\n",
    "ATGCATGAT"
   ]
  },
  {
   "cell_type": "code",
   "execution_count": 36,
   "id": "ce36907d",
   "metadata": {
    "id": "ce36907d"
   },
   "outputs": [],
   "source": [
    "def ShortestCommonSupersequence(s, t):\n",
    "    # Edge case\n",
    "    if not isinstance(s, str) or not isinstance(t, str):\n",
    "        raise ValueError(\"Input must be provided as a list of strings.\") \n",
    "        \n",
    "    lcs = LongestCommonSubsequence(s, t)\n",
    "    result = []\n",
    "    i = j = 0  # Index\n",
    "    # Insert strings that are not in LCS\n",
    "    for char in lcs:\n",
    "        while i < len(s) and s[i] != char:\n",
    "            result.append(s[i])\n",
    "            i += 1\n",
    "        while j < len(t) and t[j] != char:\n",
    "            result.append(t[j])\n",
    "            j += 1\n",
    "        result.append(char)  # Append LCS string\n",
    "        i += 1\n",
    "        j += 1\n",
    "    # Add remained strings\n",
    "    result.extend(s[i:])\n",
    "    result.extend(t[j:])\n",
    "    return ''.join(result)"
   ]
  },
  {
   "cell_type": "code",
   "execution_count": 38,
   "id": "4c6d4a0b-6d36-4c8b-b2f9-7c28c2d50ed9",
   "metadata": {},
   "outputs": [
    {
     "data": {
      "text/plain": [
       "'ATGCATGAT'"
      ]
     },
     "execution_count": 38,
     "metadata": {},
     "output_type": "execute_result"
    }
   ],
   "source": [
    "s = \"ATCTGAT\"\n",
    "t = \"TGCATA\"\n",
    "ShortestCommonSupersequence(s, t)"
   ]
  }
 ],
 "metadata": {
  "colab": {
   "provenance": []
  },
  "kernelspec": {
   "display_name": "Python 3 (ipykernel)",
   "language": "python",
   "name": "python3"
  },
  "language_info": {
   "codemirror_mode": {
    "name": "ipython",
    "version": 3
   },
   "file_extension": ".py",
   "mimetype": "text/x-python",
   "name": "python",
   "nbconvert_exporter": "python",
   "pygments_lexer": "ipython3",
   "version": "3.11.8"
  }
 },
 "nbformat": 4,
 "nbformat_minor": 5
}
